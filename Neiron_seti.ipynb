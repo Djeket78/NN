{
 "cells": [
  {
   "cell_type": "code",
   "execution_count": null,
   "metadata": {},
   "outputs": [],
   "source": []
  },
  {
   "cell_type": "code",
   "execution_count": 2,
   "metadata": {},
   "outputs": [],
   "source": [
    "from random import random\n",
    "\n",
    "class LinearLayer :\n",
    "    \n",
    "    def __init__(self, x_size, y_size):\n",
    "        self.x_size = x_size\n",
    "        self.y_size = y_size\n",
    "        # input data\n",
    "        self.x = [ 0 for i in range(x_size)]\n",
    "        \n",
    "        #parameters\n",
    "        self.w = [\n",
    "        [ random() for i in range(x_size)] for j in range(y_size)\n",
    "        ]\n",
    "        self.b = [ random() for i in range(y_size)]\n",
    "        \n",
    "        # output data \n",
    "        self.y = [ 0 for i in range(y_size)]\n",
    "     \n",
    "     \n",
    "    def forward(self, x):\n",
    "        #saving data internally \n",
    "        self.x = x\n",
    "        #computing forward pass\n",
    "        for j in range(self.y_size):\n",
    "            self.y[j] = self.b[j]\n",
    "            for i in range(self.x_size):\n",
    "                self.y[j] += self.x[i] * self.w[j][i]\n",
    "        return self.y\n",
    "    \n",
    "    \n",
    "    def backward(self, DELTA, lr):\n",
    "        \n",
    "        #Update parameters############\n",
    "        self.b = [self.b[j] - lr*DELTA[j] for j in range(self.y_size)]\n",
    "        \n",
    "        self.w = [self.w[j][i] - lr * self.x[i] * DELTA[j] for i in range(self.x_size) for j in range(self.y_size)]\n",
    "        \n",
    "        ##### calculate  and return errors\n",
    "        return[\n",
    "            sum([DELTA[j] * self.w[j][i] for j in range(len(DELTA))]) for i in range(self.x_size)\n",
    "            ]\n",
    "        \n",
    "        \n",
    "        \n",
    "    def __str__(self):\n",
    "        \n",
    "        out =  \"X: \"\n",
    "        for i in range(self.x_size):\n",
    "           out += f\"{self.x[i]:12.6f}\"+\" \"\n",
    "           \n",
    "        out += \"\\n--------------------------------------------\\n\"\n",
    "        \n",
    "        for i in range(self.x_size):\n",
    "            out +=  \"W: \"\n",
    "            for j in range(self.y_size):\n",
    "                out += f\"{self.w[j][i]:12.6f}\"+\" \"\n",
    "            out += \"\\n\"\n",
    "           \n",
    "        out +=  \"B: \"\n",
    "        \n",
    "        for j in range(self.y_size):\n",
    "           out += f\"{self.b[j]:12.6f}\"+\" \"\n",
    "           \n",
    "        out += \"\\n--------------------------------------------\\n\"\n",
    "        out +=  \"Y: \"\n",
    "        \n",
    "        for j in range(self.y_size):\n",
    "           out += f\"{self.y[j]:12.6f}\"+\" \"\n",
    "           \n",
    "        return out"
   ]
  },
  {
   "cell_type": "code",
   "execution_count": 3,
   "metadata": {},
   "outputs": [
    {
     "name": "stdout",
     "output_type": "stream",
     "text": [
      "X:     1.000000     2.000000 \n",
      "--------------------------------------------\n",
      "W:    10.000000    30.000000    50.000000 \n",
      "W:    20.000000    40.000000    60.000000 \n",
      "B:     1.000000     2.000000     3.000000 \n",
      "--------------------------------------------\n",
      "Y:    51.000000   112.000000   173.000000 \n"
     ]
    }
   ],
   "source": [
    "hiddenLayer = LinearLayer(2, 3)\n",
    "hiddenLayer.b = [1, 2, 3]\n",
    "hiddenLayer.w = [\n",
    "    [10, 20],\n",
    "    [30, 40],\n",
    "    [50, 60],\n",
    "]\n",
    "\n",
    "x = [1, 2]\n",
    "y = hiddenLayer.forward(x)\n",
    "\n",
    "print(hiddenLayer)\n"
   ]
  },
  {
   "cell_type": "markdown",
   "metadata": {},
   "source": []
  },
  {
   "cell_type": "code",
   "execution_count": 5,
   "metadata": {},
   "outputs": [],
   "source": [
    "class ActivationLayer:\n",
    "    \n",
    "    def __init__(self, x_size):\n",
    "        self.x_size = x_size\n",
    "        self.x = [0 for i in range(x_size)]\n",
    "        self.y = [0 for i in range(x_size)]\n",
    "        \n",
    "    def forward(self, X):\n",
    "        self.x = X\n",
    "        for i in range(self.x_size):\n",
    "            self.y[i] = self.sigmoid(self.x[i])\n",
    "        return self.y\n",
    "    \n",
    "    def sigmoid(self, x):\n",
    "        return 1/(1+2.7 ** -x)\n",
    "    \n",
    "    \n",
    "    def __str__(self):\n",
    "        out =  \"X: \"\n",
    "        for i in range(self.x_size):\n",
    "           out += f\"{self.x[i]:12.6f}\"+\" \"\n",
    "           \n",
    "        out += \"\\n--------------------------------------------\\n\"\n",
    "        \n",
    "        out +=  \"Y: \"\n",
    "        \n",
    "        for j in range(self.x_size):\n",
    "           out += f\"{self.y[j]:12.6f}\"+\" \"\n",
    "           \n",
    "        return out\n",
    "    \n",
    "    \n",
    "    def backward(self, DELTA):\n",
    "        \n",
    "        return[ DELTA[i] * self.sigmoid_prime(self.x[i]) for i in range(self.x_size)]\n",
    "    \n",
    "    def sigmoid_prime(self, delta):\n",
    "        return self.sigmoid(delta) * (1 - self.sigmoid(delta))\n",
    "    "
   ]
  },
  {
   "cell_type": "code",
   "execution_count": 6,
   "metadata": {},
   "outputs": [
    {
     "name": "stdout",
     "output_type": "stream",
     "text": [
      "[0.27027027027027023, 0.5, 0.7297297297297298]\n",
      "X:    -1.000000     0.000000     1.000000 \n",
      "--------------------------------------------\n",
      "Y:     0.270270     0.500000     0.729730 \n"
     ]
    }
   ],
   "source": [
    "activation0 = ActivationLayer(3)\n",
    "X = [-1,0,1]\n",
    "Y = activation0.forward(X)\n",
    "print(Y)\n",
    "print(activation0)\n"
   ]
  },
  {
   "cell_type": "code",
   "execution_count": 7,
   "metadata": {},
   "outputs": [
    {
     "name": "stdout",
     "output_type": "stream",
     "text": [
      "[0.9837316208497543] [0.016268379150245704] [0.00026035456834443875]\n"
     ]
    }
   ],
   "source": [
    "lin0 = LinearLayer(2,3)\n",
    "act1 = ActivationLayer(3)\n",
    "lin2 = LinearLayer(3,1)\n",
    "act3 = ActivationLayer(1)\n",
    "\n",
    "\n",
    "lin0.w = [\n",
    "    [2,1],\n",
    "    [0,0],\n",
    "    [0,0],\n",
    "] \n",
    "\n",
    "\n",
    "lin2.w = [\n",
    "    [3, 2, 1]\n",
    "    ]\n",
    "\n",
    "\n",
    "# X0 = [1,0]\n",
    "# Y0 = lin0.forward(X0)\n",
    "# X1 = Y0\n",
    "# Y1 = act1.forward(X1)\n",
    "# X2 = Y1\n",
    "# Y2 = lin2.forward(X2)\n",
    "# X3 = Y2\n",
    "# Y3 = act3.forward(X3)\n",
    "\n",
    "\n",
    "# print(\"X0\", X0)\n",
    "# print(\"Y0\", Y0)\n",
    "# print(\"X1\", X1)\n",
    "# print(\"Y1\", Y1)\n",
    "# print(\"X2\", X2)\n",
    "# print(\"Y2\", Y2)\n",
    "# print(\"X3\", X3)\n",
    "X = [4.13]\n",
    "Yp = act3.forward(X)\n",
    "E =[1-Yp[0]]\n",
    "Ein = act3.backward(E)\n",
    " \n",
    "print(Yp, E, Ein)"
   ]
  },
  {
   "cell_type": "code",
   "execution_count": 8,
   "metadata": {},
   "outputs": [],
   "source": [
    "#DATA SET\n",
    "data_x = [\n",
    "    [0,0],\n",
    "    [0,1],\n",
    "    [1,0],\n",
    "    [1,1],\n",
    "]\n",
    "\n",
    "\n",
    "data_y = [\n",
    "    0,      #wrong\n",
    "    1,      #right\n",
    "    1,      #left\n",
    "    0       #wrong\n",
    "]"
   ]
  },
  {
   "cell_type": "code",
   "execution_count": 9,
   "metadata": {},
   "outputs": [],
   "source": [
    "def loss(y, yp):\n",
    "    return yp-y"
   ]
  },
  {
   "cell_type": "code",
   "execution_count": 10,
   "metadata": {},
   "outputs": [
    {
     "ename": "TypeError",
     "evalue": "'float' object is not subscriptable",
     "output_type": "error",
     "traceback": [
      "\u001b[1;31m---------------------------------------------------------------------------\u001b[0m",
      "\u001b[1;31mTypeError\u001b[0m                                 Traceback (most recent call last)",
      "\u001b[1;32md:\\vs cod\\Neiron\\Neiron_seti.ipynb Ячейка 10\u001b[0m in \u001b[0;36m<cell line: 9>\u001b[1;34m()\u001b[0m\n\u001b[0;32m     <a href='vscode-notebook-cell:/d%3A/vs%20cod/Neiron/Neiron_seti.ipynb#X12sZmlsZQ%3D%3D?line=27'>28</a>\u001b[0m delta3 \u001b[39m=\u001b[39m [loss(y, Yp[\u001b[39m0\u001b[39m])]\n\u001b[0;32m     <a href='vscode-notebook-cell:/d%3A/vs%20cod/Neiron/Neiron_seti.ipynb#X12sZmlsZQ%3D%3D?line=28'>29</a>\u001b[0m delta2 \u001b[39m=\u001b[39m act3\u001b[39m.\u001b[39mbackward(delta3)\n\u001b[1;32m---> <a href='vscode-notebook-cell:/d%3A/vs%20cod/Neiron/Neiron_seti.ipynb#X12sZmlsZQ%3D%3D?line=29'>30</a>\u001b[0m delta1 \u001b[39m=\u001b[39m lin2\u001b[39m.\u001b[39;49mbackward(delta2, lr)\n\u001b[0;32m     <a href='vscode-notebook-cell:/d%3A/vs%20cod/Neiron/Neiron_seti.ipynb#X12sZmlsZQ%3D%3D?line=30'>31</a>\u001b[0m delta0 \u001b[39m=\u001b[39m act1\u001b[39m.\u001b[39mbackward(delta1)\n\u001b[0;32m     <a href='vscode-notebook-cell:/d%3A/vs%20cod/Neiron/Neiron_seti.ipynb#X12sZmlsZQ%3D%3D?line=31'>32</a>\u001b[0m delta  \u001b[39m=\u001b[39m lin0\u001b[39m.\u001b[39mbackward(delta0, lr)\n",
      "\u001b[1;32md:\\vs cod\\Neiron\\Neiron_seti.ipynb Ячейка 10\u001b[0m in \u001b[0;36mLinearLayer.backward\u001b[1;34m(self, DELTA, lr)\u001b[0m\n\u001b[0;32m     <a href='vscode-notebook-cell:/d%3A/vs%20cod/Neiron/Neiron_seti.ipynb#X12sZmlsZQ%3D%3D?line=36'>37</a>\u001b[0m \u001b[39mself\u001b[39m\u001b[39m.\u001b[39mw \u001b[39m=\u001b[39m [\u001b[39mself\u001b[39m\u001b[39m.\u001b[39mw[j][i] \u001b[39m-\u001b[39m lr \u001b[39m*\u001b[39m \u001b[39mself\u001b[39m\u001b[39m.\u001b[39mx[i] \u001b[39m*\u001b[39m DELTA[j] \u001b[39mfor\u001b[39;00m i \u001b[39min\u001b[39;00m \u001b[39mrange\u001b[39m(\u001b[39mself\u001b[39m\u001b[39m.\u001b[39mx_size) \u001b[39mfor\u001b[39;00m j \u001b[39min\u001b[39;00m \u001b[39mrange\u001b[39m(\u001b[39mself\u001b[39m\u001b[39m.\u001b[39my_size)]\n\u001b[0;32m     <a href='vscode-notebook-cell:/d%3A/vs%20cod/Neiron/Neiron_seti.ipynb#X12sZmlsZQ%3D%3D?line=38'>39</a>\u001b[0m \u001b[39m##### calculate  and return errors\u001b[39;00m\n\u001b[1;32m---> <a href='vscode-notebook-cell:/d%3A/vs%20cod/Neiron/Neiron_seti.ipynb#X12sZmlsZQ%3D%3D?line=39'>40</a>\u001b[0m \u001b[39mreturn\u001b[39;00m[\n\u001b[0;32m     <a href='vscode-notebook-cell:/d%3A/vs%20cod/Neiron/Neiron_seti.ipynb#X12sZmlsZQ%3D%3D?line=40'>41</a>\u001b[0m     \u001b[39msum\u001b[39m([DELTA[j] \u001b[39m*\u001b[39m \u001b[39mself\u001b[39m\u001b[39m.\u001b[39mw[j][i] \u001b[39mfor\u001b[39;00m j \u001b[39min\u001b[39;00m \u001b[39mrange\u001b[39m(\u001b[39mlen\u001b[39m(DELTA))]) \u001b[39mfor\u001b[39;00m i \u001b[39min\u001b[39;00m \u001b[39mrange\u001b[39m(\u001b[39mself\u001b[39m\u001b[39m.\u001b[39mx_size)\n\u001b[0;32m     <a href='vscode-notebook-cell:/d%3A/vs%20cod/Neiron/Neiron_seti.ipynb#X12sZmlsZQ%3D%3D?line=41'>42</a>\u001b[0m     ]\n",
      "\u001b[1;32md:\\vs cod\\Neiron\\Neiron_seti.ipynb Ячейка 10\u001b[0m in \u001b[0;36m<listcomp>\u001b[1;34m(.0)\u001b[0m\n\u001b[0;32m     <a href='vscode-notebook-cell:/d%3A/vs%20cod/Neiron/Neiron_seti.ipynb#X12sZmlsZQ%3D%3D?line=36'>37</a>\u001b[0m \u001b[39mself\u001b[39m\u001b[39m.\u001b[39mw \u001b[39m=\u001b[39m [\u001b[39mself\u001b[39m\u001b[39m.\u001b[39mw[j][i] \u001b[39m-\u001b[39m lr \u001b[39m*\u001b[39m \u001b[39mself\u001b[39m\u001b[39m.\u001b[39mx[i] \u001b[39m*\u001b[39m DELTA[j] \u001b[39mfor\u001b[39;00m i \u001b[39min\u001b[39;00m \u001b[39mrange\u001b[39m(\u001b[39mself\u001b[39m\u001b[39m.\u001b[39mx_size) \u001b[39mfor\u001b[39;00m j \u001b[39min\u001b[39;00m \u001b[39mrange\u001b[39m(\u001b[39mself\u001b[39m\u001b[39m.\u001b[39my_size)]\n\u001b[0;32m     <a href='vscode-notebook-cell:/d%3A/vs%20cod/Neiron/Neiron_seti.ipynb#X12sZmlsZQ%3D%3D?line=38'>39</a>\u001b[0m \u001b[39m##### calculate  and return errors\u001b[39;00m\n\u001b[0;32m     <a href='vscode-notebook-cell:/d%3A/vs%20cod/Neiron/Neiron_seti.ipynb#X12sZmlsZQ%3D%3D?line=39'>40</a>\u001b[0m \u001b[39mreturn\u001b[39;00m[\n\u001b[1;32m---> <a href='vscode-notebook-cell:/d%3A/vs%20cod/Neiron/Neiron_seti.ipynb#X12sZmlsZQ%3D%3D?line=40'>41</a>\u001b[0m     \u001b[39msum\u001b[39m([DELTA[j] \u001b[39m*\u001b[39m \u001b[39mself\u001b[39m\u001b[39m.\u001b[39mw[j][i] \u001b[39mfor\u001b[39;00m j \u001b[39min\u001b[39;00m \u001b[39mrange\u001b[39m(\u001b[39mlen\u001b[39m(DELTA))]) \u001b[39mfor\u001b[39;00m i \u001b[39min\u001b[39;00m \u001b[39mrange\u001b[39m(\u001b[39mself\u001b[39m\u001b[39m.\u001b[39mx_size)\n\u001b[0;32m     <a href='vscode-notebook-cell:/d%3A/vs%20cod/Neiron/Neiron_seti.ipynb#X12sZmlsZQ%3D%3D?line=41'>42</a>\u001b[0m     ]\n",
      "\u001b[1;32md:\\vs cod\\Neiron\\Neiron_seti.ipynb Ячейка 10\u001b[0m in \u001b[0;36m<listcomp>\u001b[1;34m(.0)\u001b[0m\n\u001b[0;32m     <a href='vscode-notebook-cell:/d%3A/vs%20cod/Neiron/Neiron_seti.ipynb#X12sZmlsZQ%3D%3D?line=36'>37</a>\u001b[0m \u001b[39mself\u001b[39m\u001b[39m.\u001b[39mw \u001b[39m=\u001b[39m [\u001b[39mself\u001b[39m\u001b[39m.\u001b[39mw[j][i] \u001b[39m-\u001b[39m lr \u001b[39m*\u001b[39m \u001b[39mself\u001b[39m\u001b[39m.\u001b[39mx[i] \u001b[39m*\u001b[39m DELTA[j] \u001b[39mfor\u001b[39;00m i \u001b[39min\u001b[39;00m \u001b[39mrange\u001b[39m(\u001b[39mself\u001b[39m\u001b[39m.\u001b[39mx_size) \u001b[39mfor\u001b[39;00m j \u001b[39min\u001b[39;00m \u001b[39mrange\u001b[39m(\u001b[39mself\u001b[39m\u001b[39m.\u001b[39my_size)]\n\u001b[0;32m     <a href='vscode-notebook-cell:/d%3A/vs%20cod/Neiron/Neiron_seti.ipynb#X12sZmlsZQ%3D%3D?line=38'>39</a>\u001b[0m \u001b[39m##### calculate  and return errors\u001b[39;00m\n\u001b[0;32m     <a href='vscode-notebook-cell:/d%3A/vs%20cod/Neiron/Neiron_seti.ipynb#X12sZmlsZQ%3D%3D?line=39'>40</a>\u001b[0m \u001b[39mreturn\u001b[39;00m[\n\u001b[1;32m---> <a href='vscode-notebook-cell:/d%3A/vs%20cod/Neiron/Neiron_seti.ipynb#X12sZmlsZQ%3D%3D?line=40'>41</a>\u001b[0m     \u001b[39msum\u001b[39m([DELTA[j] \u001b[39m*\u001b[39m \u001b[39mself\u001b[39;49m\u001b[39m.\u001b[39;49mw[j][i] \u001b[39mfor\u001b[39;00m j \u001b[39min\u001b[39;00m \u001b[39mrange\u001b[39m(\u001b[39mlen\u001b[39m(DELTA))]) \u001b[39mfor\u001b[39;00m i \u001b[39min\u001b[39;00m \u001b[39mrange\u001b[39m(\u001b[39mself\u001b[39m\u001b[39m.\u001b[39mx_size)\n\u001b[0;32m     <a href='vscode-notebook-cell:/d%3A/vs%20cod/Neiron/Neiron_seti.ipynb#X12sZmlsZQ%3D%3D?line=41'>42</a>\u001b[0m     ]\n",
      "\u001b[1;31mTypeError\u001b[0m: 'float' object is not subscriptable"
     ]
    }
   ],
   "source": [
    "lr = 0.1\n",
    "## Creation NN\n",
    "lin0 = LinearLayer(2,3)\n",
    "act1 = ActivationLayer(3)\n",
    "lin2 = LinearLayer(3,1)\n",
    "act3 = ActivationLayer(1)\n",
    "\n",
    "## training loop\n",
    "for epoch in range(100000):\n",
    "    mean_error = 0\n",
    "    for i in range(len(data_x)):\n",
    "        ## take one simple\n",
    "        x = data_x[i]\n",
    "        y = data_y[i]\n",
    "        \n",
    "        ## FORWARD - prediction\n",
    "        X0 = x\n",
    "        Y0 = lin0.forward(X0)\n",
    "        X1 = Y0\n",
    "        Y1 = act1.forward(X1)\n",
    "        X2 = Y1\n",
    "        Y2 = lin2.forward(X2)\n",
    "        X3 = Y2\n",
    "        Y3 = act3.forward(X3)\n",
    "        Yp = Y3\n",
    "        \n",
    "        ## backward\n",
    "        delta3 = [loss(y, Yp[0])]\n",
    "        delta2 = act3.backward(delta3)\n",
    "        delta1 = lin2.backward(delta2, lr)\n",
    "        delta0 = act1.backward(delta1)\n",
    "        delta  = lin0.backward(delta0, lr)\n",
    "        \n",
    "        mean_error += delta3[0]\n",
    "    mean_error /= len(data_x)\n",
    "    print(f\"epoch = {epoch:5} loss={mean_error:12.10f}\")\n",
    "\n"
   ]
  },
  {
   "cell_type": "code",
   "execution_count": null,
   "metadata": {},
   "outputs": [],
   "source": [
    "X0 = [1, 1]\n",
    "Y0 = lin0.forward(X0)\n",
    "X1 = Y0\n",
    "Y1 = act1.forward(X1)\n",
    "X2 = Y1\n",
    "Y2 = lin2.forward(X2)\n",
    "X3 = Y2\n",
    "Y3 = act3.forward(X3)\n",
    "Yp = Y3\n",
    " \n",
    "print(Yp)"
   ]
  }
 ],
 "metadata": {
  "kernelspec": {
   "display_name": "Python 3.10.6 64-bit",
   "language": "python",
   "name": "python3"
  },
  "language_info": {
   "codemirror_mode": {
    "name": "ipython",
    "version": 3
   },
   "file_extension": ".py",
   "mimetype": "text/x-python",
   "name": "python",
   "nbconvert_exporter": "python",
   "pygments_lexer": "ipython3",
   "version": "3.10.6"
  },
  "orig_nbformat": 4,
  "vscode": {
   "interpreter": {
    "hash": "afb734500600fd355917ca529030176ea0ca205570884b88f2f6f7d791fd3fbe"
   }
  }
 },
 "nbformat": 4,
 "nbformat_minor": 2
}
